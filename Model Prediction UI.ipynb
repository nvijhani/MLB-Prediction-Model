{
 "cells": [
  {
   "cell_type": "markdown",
   "id": "ae6706df",
   "metadata": {},
   "source": [
    "# Importing Libraries and Dataset"
   ]
  },
  {
   "cell_type": "code",
   "execution_count": 12,
   "id": "1899c4ec",
   "metadata": {},
   "outputs": [],
   "source": [
    "import joblib\n",
    "import pandas as pd\n",
    "import ipywidgets as widgets\n",
    "from IPython.display import display, clear_output\n",
    "import numpy as np"
   ]
  },
  {
   "cell_type": "code",
   "execution_count": 13,
   "id": "0a293090",
   "metadata": {},
   "outputs": [],
   "source": [
    "automl_model = joblib.load(\"automl_model.pkl\")\n",
    "df_elo_latest = pd.read_csv('mlb_elo_latest.csv')\n",
    "df_elo = pd.read_csv('mlb_elo.csv')\n",
    "df_combined = pd.concat([df_elo_latest, df_elo], ignore_index=True)"
   ]
  },
  {
   "cell_type": "markdown",
   "id": "509befbd",
   "metadata": {},
   "source": [
    "# Data Preparation"
   ]
  },
  {
   "cell_type": "code",
   "execution_count": 14,
   "id": "744c4d6b",
   "metadata": {},
   "outputs": [],
   "source": [
    "df_combined['elo1_post'] = df_combined.groupby('team1')['elo1_post'].transform(lambda x: x.fillna(x.mean()))\n",
    "df_combined['elo2_post'] = df_combined.groupby('team2')['elo2_post'].transform(lambda x: x.fillna(x.mean()))\n",
    "df_combined.dropna(subset=['pitcher1', 'pitcher2'], inplace=True)\n",
    "df_combined['pitcher1_rgs'].fillna(df_combined['pitcher1_rgs'].mean(), inplace=True)\n",
    "df_combined['pitcher2_rgs'].fillna(df_combined['pitcher2_rgs'].mean(), inplace=True)\n",
    "df_combined['pitcher1_adj'] = df_combined.groupby('team1')['pitcher1_adj'].transform(lambda x: x.fillna(x.mean()))\n",
    "df_combined['pitcher1_adj'].fillna(df_combined['pitcher1_adj'].mean(), inplace=True)\n",
    "df_combined['pitcher2_adj'] = df_combined.groupby('team2')['pitcher2_adj'].transform(lambda x: x.fillna(x.mean()))\n",
    "df_combined['pitcher2_adj'].fillna(df_combined['pitcher2_adj'].mean(), inplace=True)\n",
    "df_combined.dropna(subset=['rating1_post', 'rating2_post', 'score1', 'score2'], inplace=True)\n",
    "df_combined.drop(columns=['playoff', 'date'], inplace=True)\n",
    "\n",
    "# Selected features from the model\n",
    "selected_features_lasso = ['season', 'elo1_pre', 'elo2_pre', 'rating2_pre', 'pitcher1_rgs', 'pitcher2_rgs', 'rating1_post', 'score1', 'score2']\n",
    "X_selected = df_combined[selected_features_lasso]\n"
   ]
  },
  {
   "cell_type": "code",
   "execution_count": 15,
   "id": "3f69f3b3",
   "metadata": {},
   "outputs": [],
   "source": [
    "team_name_mapping = {\n",
    "    'TOR': 'Toronto Blue Jays', 'MIL': 'Milwaukee Brewers', 'SEA': 'Seattle Mariners', 'ARI': 'Arizona Diamondbacks', \n",
    "    'WSN': 'Washington Nationals', 'NYM': 'New York Mets', 'LAD': 'Los Angeles Dodgers', 'CHW': 'Chicago White Sox',\n",
    "    'HOU': 'Houston Astros', 'DET': 'Detroit Tigers', 'BOS': 'Boston Red Sox', 'OAK': 'Oakland Athletics',\n",
    "    'PIT': 'Pittsburgh Pirates', 'CHC': 'Chicago Cubs', 'MIN': 'Minnesota Twins', 'TBD': 'Tampa Bay Rays',\n",
    "    'CLE': 'Cleveland Guardians', 'NYY': 'New York Yankees', 'MIA': 'Miami Marlins', 'FLA': 'Florida Marlins',\n",
    "    'ANA': 'Los Angeles Angels', 'STL': 'St. Louis Cardinals', 'SDP': 'San Diego Padres', 'SFG': 'San Francisco Giants',\n",
    "    'COL': 'Colorado Rockies', 'TEX': 'Texas Rangers', 'KCR': 'Kansas City Royals', 'ATL': 'Atlanta Braves',\n",
    "    'CIN': 'Cincinnati Reds', 'PHI': 'Philadelphia Phillies', 'BAL': 'Baltimore Orioles'\n",
    "}\n",
    "df_combined['team1_full'] = df_combined['team1'].map(team_name_mapping)\n",
    "df_combined['team2_full'] = df_combined['team2'].map(team_name_mapping)\n",
    "unique_teams = list(team_name_mapping.values())"
   ]
  },
  {
   "cell_type": "code",
   "execution_count": 16,
   "id": "97ad988b",
   "metadata": {},
   "outputs": [],
   "source": [
    "team1_dropdown = widgets.Dropdown(options=unique_teams, description='Team 1')\n",
    "team2_dropdown = widgets.Dropdown(options=unique_teams, description='Team 2')\n",
    "button = widgets.Button(description=\"Predict\")\n",
    "output = widgets.Output()"
   ]
  },
  {
   "cell_type": "markdown",
   "id": "189a97fe",
   "metadata": {},
   "source": [
    "# Predict function as the 'Event' to give the winning Probabilities "
   ]
  },
  {
   "cell_type": "code",
   "execution_count": 17,
   "id": "d0e16732",
   "metadata": {},
   "outputs": [
    {
     "data": {
      "application/vnd.jupyter.widget-view+json": {
       "model_id": "6761201c440a4882b3348f5dd21acf39",
       "version_major": 2,
       "version_minor": 0
      },
      "text/plain": [
       "Dropdown(description='Team 1', options=('Toronto Blue Jays', 'Milwaukee Brewers', 'Seattle Mariners', 'Arizona…"
      ]
     },
     "metadata": {},
     "output_type": "display_data"
    },
    {
     "data": {
      "application/vnd.jupyter.widget-view+json": {
       "model_id": "c1813e4d10b64f37892fe3fbd7cbccd9",
       "version_major": 2,
       "version_minor": 0
      },
      "text/plain": [
       "Dropdown(description='Team 2', options=('Toronto Blue Jays', 'Milwaukee Brewers', 'Seattle Mariners', 'Arizona…"
      ]
     },
     "metadata": {},
     "output_type": "display_data"
    },
    {
     "data": {
      "application/vnd.jupyter.widget-view+json": {
       "model_id": "3d8024f12d9140a2bd9aac65d84f02f3",
       "version_major": 2,
       "version_minor": 0
      },
      "text/plain": [
       "Button(description='Predict', style=ButtonStyle())"
      ]
     },
     "metadata": {},
     "output_type": "display_data"
    },
    {
     "data": {
      "application/vnd.jupyter.widget-view+json": {
       "model_id": "e4dd3a89eae44683b7f8e9c5cf08e697",
       "version_major": 2,
       "version_minor": 0
      },
      "text/plain": [
       "Output()"
      ]
     },
     "metadata": {},
     "output_type": "display_data"
    }
   ],
   "source": [
    "def predict(button):\n",
    "    with output:\n",
    "        clear_output()\n",
    "        team1_full = team1_dropdown.value\n",
    "        team2_full = team2_dropdown.value\n",
    "        \n",
    "        team1 = list(team_name_mapping.keys())[list(team_name_mapping.values()).index(team1_full)]\n",
    "        team2 = list(team_name_mapping.keys())[list(team_name_mapping.values()).index(team2_full)]\n",
    "        \n",
    "        print(\"Calculating...\")\n",
    "        sample_input = df_combined[(df_combined['team1'] == team1) & (df_combined['team2'] == team2)].iloc[0][selected_features_lasso]\n",
    "        sample_input = sample_input.values.reshape(1, -1)\n",
    "        \n",
    "        pred = automl_model.predict(sample_input)[0]\n",
    "        \n",
    "        #Convert ELO rating to win probability\n",
    "        def elo_to_probability(elo1, elo2):\n",
    "            return 1 / (1 + 10 ** ((elo2 - elo1) / 400))\n",
    "        \n",
    "        team1_elo_pre = df_combined[df_combined['team1'] == team1]['elo1_pre'].mean()\n",
    "        team2_elo_pre = df_combined[df_combined['team2'] == team2]['elo2_pre'].mean()\n",
    "        \n",
    "        win_prob_team1 = elo_to_probability(team1_elo_pre, pred)\n",
    "        win_prob_team2 = 1 - win_prob_team1\n",
    "        \n",
    "        # Display results\n",
    "        display(widgets.HTML(f\"<h3>{team1_full} vs {team2_full}</h3>\"))\n",
    "        col1, col2 = widgets.Output(), widgets.Output()\n",
    "        display(widgets.HBox([col1, col2]))\n",
    "        \n",
    "        with col1:\n",
    "            if win_prob_team1 > win_prob_team2:\n",
    "                display(widgets.HTML(value=f\"<div style='color:green;'><h4>{team1_full}</h4>Win Probability: {win_prob_team1:.2%}</div>\"))\n",
    "            else:\n",
    "                display(widgets.HTML(value=f\"<div style='color:red;'><h4>{team1_full}</h4>Win Probability: {win_prob_team1:.2%}</div>\"))\n",
    "        \n",
    "        with col2:\n",
    "            if win_prob_team2 > win_prob_team1:\n",
    "                display(widgets.HTML(value=f\"<div style='color:green;'><h4>{team2_full}</h4>Win Probability: {win_prob_team2:.2%}</div>\"))\n",
    "            else:\n",
    "                display(widgets.HTML(value=f\"<div style='color:red;'><h4>{team2_full}</h4>Win Probability: {win_prob_team2:.2%}</div>\"))\n",
    "\n",
    "#button click event\n",
    "button.on_click(predict)\n",
    "\n",
    "# Display the UI components\n",
    "display(team1_dropdown)\n",
    "display(team2_dropdown)\n",
    "display(button)\n",
    "display(output)"
   ]
  },
  {
   "cell_type": "code",
   "execution_count": null,
   "id": "355f1aab",
   "metadata": {},
   "outputs": [],
   "source": []
  }
 ],
 "metadata": {
  "kernelspec": {
   "display_name": "Python 3 (ipykernel)",
   "language": "python",
   "name": "python3"
  },
  "language_info": {
   "codemirror_mode": {
    "name": "ipython",
    "version": 3
   },
   "file_extension": ".py",
   "mimetype": "text/x-python",
   "name": "python",
   "nbconvert_exporter": "python",
   "pygments_lexer": "ipython3",
   "version": "3.9.13"
  }
 },
 "nbformat": 4,
 "nbformat_minor": 5
}
